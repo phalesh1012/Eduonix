{
 "cells": [
  {
   "cell_type": "code",
   "execution_count": null,
   "metadata": {},
   "outputs": [],
   "source": [
    "require(stats); require(graphics)\n",
    "## give the data set in the form it is used in S-PLUS:\n",
    "longley.x <- data.matrix(longley[, 1:6])\n",
    "longley.y <- longley[, \"Employed\"]\n",
    "pairs(longley, main = \"longley data\")\n",
    "summary(fm1 <- lm(Employed ~ ., data = longley))\n",
    "opar <- par(mfrow = c(2, 2), oma = c(0, 0, 1.1, 0),\n",
    "            mar = c(4.1, 4.1, 2.1, 1.1))\n",
    "plot(fm1)\n",
    "par(opar)"
   ]
  }
 ],
 "metadata": {
  "kernelspec": {
   "display_name": "Python 3",
   "language": "python",
   "name": "python3"
  },
  "language_info": {
   "codemirror_mode": {
    "name": "ipython",
    "version": 3
   },
   "file_extension": ".py",
   "mimetype": "text/x-python",
   "name": "python",
   "nbconvert_exporter": "python",
   "pygments_lexer": "ipython3",
   "version": "3.7.3"
  }
 },
 "nbformat": 4,
 "nbformat_minor": 2
}
